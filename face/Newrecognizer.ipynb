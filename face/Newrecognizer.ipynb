{
 "cells": [
  {
   "cell_type": "code",
   "execution_count": 1,
   "metadata": {},
   "outputs": [
    {
     "name": "stdout",
     "output_type": "stream",
     "text": [
      "name: byungdoo\n"
     ]
    },
    {
     "ename": "error",
     "evalue": "D:\\Build\\OpenCV\\opencv-3.2.0\\modules\\imgproc\\src\\color.cpp:9748: error: (-215) scn == 3 || scn == 4 in function cv::cvtColor\n",
     "output_type": "error",
     "traceback": [
      "\u001b[1;31m---------------------------------------------------------------------------\u001b[0m",
      "\u001b[1;31merror\u001b[0m                                     Traceback (most recent call last)",
      "\u001b[1;32m<ipython-input-1-55cd8ae0fcd0>\u001b[0m in \u001b[0;36m<module>\u001b[1;34m()\u001b[0m\n\u001b[0;32m     74\u001b[0m \u001b[1;32mwhile\u001b[0m \u001b[1;32mTrue\u001b[0m\u001b[1;33m:\u001b[0m\u001b[1;33m\u001b[0m\u001b[0m\n\u001b[0;32m     75\u001b[0m     \u001b[0mret\u001b[0m\u001b[1;33m,\u001b[0m \u001b[0mim\u001b[0m \u001b[1;33m=\u001b[0m \u001b[0mcam\u001b[0m\u001b[1;33m.\u001b[0m\u001b[0mread\u001b[0m\u001b[1;33m(\u001b[0m\u001b[1;33m)\u001b[0m\u001b[1;33m\u001b[0m\u001b[0m\n\u001b[1;32m---> 76\u001b[1;33m     \u001b[0mgray\u001b[0m \u001b[1;33m=\u001b[0m \u001b[0mcv2\u001b[0m\u001b[1;33m.\u001b[0m\u001b[0mcvtColor\u001b[0m\u001b[1;33m(\u001b[0m\u001b[0mim\u001b[0m\u001b[1;33m,\u001b[0m \u001b[0mcv2\u001b[0m\u001b[1;33m.\u001b[0m\u001b[0mCOLOR_BGR2GRAY\u001b[0m\u001b[1;33m)\u001b[0m\u001b[1;33m\u001b[0m\u001b[0m\n\u001b[0m\u001b[0;32m     77\u001b[0m \u001b[1;33m\u001b[0m\u001b[0m\n\u001b[0;32m     78\u001b[0m     \u001b[0mfaces\u001b[0m\u001b[1;33m=\u001b[0m\u001b[0mdetector\u001b[0m\u001b[1;33m.\u001b[0m\u001b[0mdetectMultiScale\u001b[0m\u001b[1;33m(\u001b[0m\u001b[0mgray\u001b[0m\u001b[1;33m,\u001b[0m \u001b[0mscaleFactor\u001b[0m\u001b[1;33m=\u001b[0m\u001b[1;36m1.2\u001b[0m\u001b[1;33m,\u001b[0m \u001b[0mminNeighbors\u001b[0m\u001b[1;33m=\u001b[0m\u001b[1;36m5\u001b[0m\u001b[1;33m)\u001b[0m\u001b[1;33m\u001b[0m\u001b[0m\n",
      "\u001b[1;31merror\u001b[0m: D:\\Build\\OpenCV\\opencv-3.2.0\\modules\\imgproc\\src\\color.cpp:9748: error: (-215) scn == 3 || scn == 4 in function cv::cvtColor\n"
     ]
    }
   ],
   "source": [
    "import cv2, os\n",
    "import sqlite3\n",
    "from PIL import Image\n",
    "import numpy as np\n",
    "\n",
    "cam = cv2.VideoCapture(0)\n",
    "detector=cv2.CascadeClassifier('haarcascade_frontalface_default.xml')\n",
    "conn=sqlite3.connect(\"FaceBase.db\")\n",
    "\n",
    "def insertOrUpdate(Id, Name):\n",
    "        \n",
    "    cmd=\"SELECT * FROM People WHERE ID=\"+str(Id)\n",
    "  \n",
    "    cursor=conn.execute(cmd)\n",
    "    isRecordExist=0\n",
    "    for row in cursor:\n",
    "        isRecordExist=1\n",
    "    if(isRecordExist==1):\n",
    "        cmd=\"UPDATE People SET Name='\"+str(Name)+\"'WHERE ID=\"+str(Id)\n",
    "    else:\n",
    "        cmd=\"INSERT INTO People(ID, Name) Values(\" + str(Id) + \",'\" + str(Name)+\"')\"\n",
    "    \n",
    "    conn.execute(cmd)\n",
    "    conn.commit()\n",
    "\n",
    "def getImagesWithID(path):\n",
    "    curId = 1;\n",
    "    faces=[]\n",
    "    Ids=[]\n",
    "    userPaths=[os.path.join(path, f) for f in os.listdir(path)] \n",
    "    \n",
    "    for userPath in userPaths:\n",
    "        imagePaths = [os.path.join(userPath, f) for f in os.listdir(userPath)]\n",
    "        \n",
    "        for imagePath in imagePaths:\n",
    "            faceImg = Image.open(imagePath).convert('L')\n",
    "            faceNp = np.array(faceImg, \"uint8\")\n",
    "            \n",
    "            faces.append(faceNp)\n",
    "            Ids.append(curId)\n",
    "            \n",
    "            cv2.imshow(\"training\", faceNp)\n",
    "            cv2.waitKey(10)\n",
    "            \n",
    "        curId = curId + 1\n",
    "        \n",
    "    return Ids, faces    \n",
    " \n",
    "\n",
    "def getUserCount():\n",
    "    cmd=\"SELECT * FROM People\"\n",
    "  \n",
    "    # Connection 으로부터 Cursor 생성\n",
    "    cur = conn.cursor()\n",
    "    \n",
    "    # SQL 쿼리 실행\n",
    "    cur.execute(cmd)\n",
    "\n",
    "    # 데이타 Fetch\n",
    "    rows = cur.fetchall()\n",
    "    c = len(rows)\n",
    "    \n",
    "    return c+1\n",
    "    \n",
    "    \n",
    "name = input('name: ')\n",
    "Id = str(getUserCount())\n",
    "os.mkdir('dataSet/User'+ Id)\n",
    "\n",
    "#id=input(\"enter your id\")\n",
    "#name=input(\"enter your name\")\n",
    "insertOrUpdate(getUserCount(),name)\n",
    "sampleNum = 0\n",
    "while True:\n",
    "    ret, im = cam.read()\n",
    "    gray = cv2.cvtColor(im, cv2.COLOR_BGR2GRAY)\n",
    "    \n",
    "    faces=detector.detectMultiScale(gray, scaleFactor=1.2, minNeighbors=5)\n",
    "    for(x,y,w,h) in faces:\n",
    "        sampleNum=sampleNum+1\n",
    "        cv2.imwrite(\"dataSet/User\"+str(Id) +'/'+ str(sampleNum) + \".jpg\", gray[y:y+h,x:x+w])\n",
    "        cv2.rectangle(im, (x-50, y-50), (x+w+50, y+h+50),(225, 0, 0), 2)\n",
    "    cv2.imshow('im', im)\n",
    "    cv2.waitKey(100)\n",
    "    if sampleNum>40:\n",
    "        break\n",
    "\n",
    "\n",
    "recognizer = cv2.face.createLBPHFaceRecognizer()\n",
    "\n",
    "path=\"dataSet\"\n",
    "Ids,faces = getImagesWithID(path)\n",
    "recognizer.train(faces, np.array(Ids))\n",
    "recognizer.save(os.path.join(os.path.curdir, 'recognizer/trained' + '.yml'))\n",
    "\n",
    "cam.release()\n",
    "cv2.destroyAllWindows()\n",
    "conn.close()\n",
    "           "
   ]
  },
  {
   "cell_type": "code",
   "execution_count": null,
   "metadata": {
    "collapsed": true
   },
   "outputs": [],
   "source": []
  },
  {
   "cell_type": "code",
   "execution_count": null,
   "metadata": {
    "collapsed": true
   },
   "outputs": [],
   "source": []
  }
 ],
 "metadata": {
  "kernelspec": {
   "display_name": "Python 3",
   "language": "python",
   "name": "python3"
  },
  "language_info": {
   "codemirror_mode": {
    "name": "ipython",
    "version": 3
   },
   "file_extension": ".py",
   "mimetype": "text/x-python",
   "name": "python",
   "nbconvert_exporter": "python",
   "pygments_lexer": "ipython3",
   "version": "3.6.1"
  }
 },
 "nbformat": 4,
 "nbformat_minor": 2
}
