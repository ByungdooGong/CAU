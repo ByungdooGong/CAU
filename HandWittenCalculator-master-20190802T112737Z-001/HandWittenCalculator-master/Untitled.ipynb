{
 "cells": [
  {
   "cell_type": "code",
   "execution_count": 18,
   "metadata": {},
   "outputs": [],
   "source": [
    "import numpy as np\n",
    "import cv2\n",
    "\n",
    "img = cv2.imread('images/4.png')  #영상 읽기\n",
    "imgray = cv2.cvtColor(img, cv2.COLOR_BGR2GRAY)  #gray-scale로 변경\n",
    "kernel = np.ones((5, 5), np.uint8)  #5x5배열로 1을 채움 \n",
    "cv2.imshow('img', img)\n",
    "ret, threshold = cv2.threshold(imgray, 250, 255, cv2.THRESH_BINARY_INV)\n",
    "cv2.imshow('threshold', threshold)\n",
    "opening = cv2.morphologyEx(imgray, cv2.MORPH_OPEN, kernel)\n",
    "\n",
    "#threshold = cv2.adaptiveThreshold(imgray, 255, cv2.ADAPTIVE_THRESH_MEAN_C,cv2.THRESH_BINARY_INV, 5, 2)\n",
    "\n",
    "#cv2.imshow('adathreshold', threshold)\n",
    "image, contours, hierachy = cv2.findContours(threshold, cv2.RETR_TREE, cv2.CHAIN_APPROX_SIMPLE)\n",
    "#threshold = cv2.medianBlur(threshold,5)\n",
    "#cv2.imshow(\"median\", threshold)\n",
    "for i in range(0, len(contours)):\n",
    "    cnt = contours[i]\n",
    "    x, y, w, h = cv2.boundingRect(cnt)\n",
    "    image = cv2.rectangle(img, (x, y), (x+w, y+h), (255, 0, 0), 2 )\n",
    "    cv2.putText(img, str(i), (x,y), cv2.FONT_HERSHEY_SIMPLEX, 1, (0, 255, 255), 2, cv2.LINE_AA)\n",
    "    image = cv2.drawContours(img, contours, -1, (0, 255, 0), 3)\n",
    "\n",
    "    \n",
    "cv2.imshow('image', image)\n",
    "cv2.waitKey(0)\n",
    "cv2.destroyAllWindows()"
   ]
  }
 ],
 "metadata": {
  "kernelspec": {
   "display_name": "Python 3",
   "language": "python",
   "name": "python3"
  },
  "language_info": {
   "codemirror_mode": {
    "name": "ipython",
    "version": 3
   },
   "file_extension": ".py",
   "mimetype": "text/x-python",
   "name": "python",
   "nbconvert_exporter": "python",
   "pygments_lexer": "ipython3",
   "version": "3.6.1"
  }
 },
 "nbformat": 4,
 "nbformat_minor": 2
}
