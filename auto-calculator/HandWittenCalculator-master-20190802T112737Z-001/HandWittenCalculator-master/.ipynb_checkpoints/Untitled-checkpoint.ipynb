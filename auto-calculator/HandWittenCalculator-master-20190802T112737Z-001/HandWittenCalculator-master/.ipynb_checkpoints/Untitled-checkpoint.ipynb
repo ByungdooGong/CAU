{
 "cells": [
  {
   "cell_type": "code",
   "execution_count": 2,
   "metadata": {},
   "outputs": [
    {
     "name": "stdout",
     "output_type": "stream",
     "text": [
      "[[[205 207 208]\n",
      "  [205 207 208]\n",
      "  [205 207 208]\n",
      "  ...\n",
      "  [197 199 200]\n",
      "  [197 199 200]\n",
      "  [197 199 200]]\n",
      "\n",
      " [[204 206 207]\n",
      "  [204 206 207]\n",
      "  [204 206 207]\n",
      "  ...\n",
      "  [197 199 200]\n",
      "  [197 199 200]\n",
      "  [197 199 200]]\n",
      "\n",
      " [[204 206 207]\n",
      "  [204 206 207]\n",
      "  [204 206 207]\n",
      "  ...\n",
      "  [197 199 200]\n",
      "  [197 199 200]\n",
      "  [197 199 200]]\n",
      "\n",
      " ...\n",
      "\n",
      " [[191 192 196]\n",
      "  [191 192 196]\n",
      "  [191 192 196]\n",
      "  ...\n",
      "  [186 188 189]\n",
      "  [186 188 189]\n",
      "  [187 189 190]]\n",
      "\n",
      " [[190 191 195]\n",
      "  [190 191 195]\n",
      "  [190 191 195]\n",
      "  ...\n",
      "  [185 187 188]\n",
      "  [186 188 189]\n",
      "  [186 188 189]]\n",
      "\n",
      " [[190 191 195]\n",
      "  [190 191 195]\n",
      "  [190 191 195]\n",
      "  ...\n",
      "  [185 187 188]\n",
      "  [186 188 189]\n",
      "  [186 188 189]]]\n"
     ]
    }
   ],
   "source": [
    "import numpy as np\n",
    "import cv2\n",
    "#import os\n",
    "\n",
    "img = cv2.imread('images/3.jpg')  #영상 읽기\n",
    "\n",
    "imgray = cv2.cvtColor(img, cv2.COLOR_BGR2GRAY)  #gray-scale로 변경\n",
    "kernel = np.ones((5, 5), np.uint8)  #5x5배열로 1을 채움 \n",
    "opening = cv2.morphologyEx(imgray, cv2.MORPH_OPEN, kernel)\n",
    "\n"
   ]
  },
  {
   "cell_type": "code",
   "execution_count": 1,
   "metadata": {},
   "outputs": [
    {
     "name": "stdout",
     "output_type": "stream",
     "text": [
      "Requirement already satisfied: opencv-python in c:\\users\\byungmoon\\anaconda3\\lib\\site-packages (3.2.0+contrib)\n"
     ]
    },
    {
     "name": "stderr",
     "output_type": "stream",
     "text": [
      "You are using pip version 10.0.1, however version 19.2.1 is available.\n",
      "You should consider upgrading via the 'python -m pip install --upgrade pip' command.\n"
     ]
    }
   ],
   "source": [
    "!pip install opencv-python"
   ]
  }
 ],
 "metadata": {
  "kernelspec": {
   "display_name": "Python 3",
   "language": "python",
   "name": "python3"
  },
  "language_info": {
   "codemirror_mode": {
    "name": "ipython",
    "version": 3
   },
   "file_extension": ".py",
   "mimetype": "text/x-python",
   "name": "python",
   "nbconvert_exporter": "python",
   "pygments_lexer": "ipython3",
   "version": "3.6.1"
  }
 },
 "nbformat": 4,
 "nbformat_minor": 2
}
